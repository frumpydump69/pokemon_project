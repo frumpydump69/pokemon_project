{
  "metadata": {
    "language_info": {
      "codemirror_mode": "sql",
      "file_extension": "",
      "mimetype": "",
      "name": "sql",
      "version": "3.32.3"
    },
    "kernelspec": {
      "name": "SQLite",
      "display_name": "SQLite",
      "language": "sql"
    }
  },
  "nbformat_minor": 4,
  "nbformat": 4,
  "cells": [
    {
      "cell_type": "markdown",
      "source": "# Introduction\n## Goals\nVisualizations help easily identify trends with a glance. This is important for pokemon trainers to know the best pokemon for a specific battle based on it's effectiveness against certain types. In addition to making these battletime decisions, it is interesting to showcase differing stats across generations, types, and rare pokemon which tableau provides the tools to illustrates these answers. For specific questions that can be found by querying the data set, SQL allowed me to answer these simple questions which are shown in this project as well.\n\n",
      "metadata": {}
    }
  ]
}
